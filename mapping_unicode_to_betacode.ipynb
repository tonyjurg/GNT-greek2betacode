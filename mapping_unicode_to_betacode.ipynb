{
 "cells": [
  {
   "cell_type": "markdown",
   "id": "639e36ae-6512-4c8c-a081-0805f0cde99a",
   "metadata": {},
   "source": [
    "# Mapping unicode to betacode"
   ]
  },
  {
   "cell_type": "markdown",
   "id": "28a70eab-6c06-4c1a-b12f-347b34c90532",
   "metadata": {},
   "source": [
    "A python lib is available that can map unicode greek into betacode and vise versa. The code is available via https://github.com/perseids-tools/beta-code-py"
   ]
  },
  {
   "cell_type": "markdown",
   "id": "23b1ce54-ccbc-4798-9c61-afffe573bce5",
   "metadata": {},
   "source": [
    "The json file with the mapping can be found at: https://github.com/perseids-tools/beta-code-json/blob/master/unicode_to_beta_code.json"
   ]
  },
  {
   "cell_type": "markdown",
   "id": "e60b130a-f889-417d-80fb-b2d11febb99f",
   "metadata": {},
   "source": [
    "Installation:\n",
    "```\n",
    "pip install beta-code\n",
    "```\n",
    "Response:\n",
    "```\n",
    "Collecting beta-code\n",
    "  Downloading beta_code-1.1.0-py3-none-any.whl.metadata (1.9 kB)\n",
    "Downloading beta_code-1.1.0-py3-none-any.whl (8.4 kB)\n",
    "Installing collected packages: beta-code\n",
    "Successfully installed beta-code-1.1.0\n",
    "```"
   ]
  },
  {
   "cell_type": "code",
   "execution_count": 4,
   "id": "5f08f480-4f0a-4cb1-9551-65f99fb7210d",
   "metadata": {},
   "outputs": [],
   "source": [
    "import beta_code"
   ]
  },
  {
   "cell_type": "code",
   "execution_count": 5,
   "id": "5d358683-eddf-47b5-992b-9dce99ab18de",
   "metadata": {},
   "outputs": [
    {
     "data": {
      "text/plain": [
       "'xai=re w)= ko/sme'"
      ]
     },
     "execution_count": 5,
     "metadata": {},
     "output_type": "execute_result"
    }
   ],
   "source": [
    "beta_code.greek_to_beta_code(u'χαῖρε ὦ κόσμε')"
   ]
  }
 ],
 "metadata": {
  "kernelspec": {
   "display_name": "Python 3 (ipykernel)",
   "language": "python",
   "name": "python3"
  },
  "language_info": {
   "codemirror_mode": {
    "name": "ipython",
    "version": 3
   },
   "file_extension": ".py",
   "mimetype": "text/x-python",
   "name": "python",
   "nbconvert_exporter": "python",
   "pygments_lexer": "ipython3",
   "version": "3.12.7"
  }
 },
 "nbformat": 4,
 "nbformat_minor": 5
}
