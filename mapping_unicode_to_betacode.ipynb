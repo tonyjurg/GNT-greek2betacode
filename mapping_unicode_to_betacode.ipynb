{
 "cells": [
  {
   "cell_type": "markdown",
   "id": "639e36ae-6512-4c8c-a081-0805f0cde99a",
   "metadata": {},
   "source": [
    "# Mapping between Unicode and Betacode"
   ]
  },
  {
   "cell_type": "markdown",
   "id": "1c984d4e-3a02-41e7-ab94-f45d90d55e53",
   "metadata": {},
   "source": [
    "## Table of content (ToC)<a class=\"anchor\" id=\"TOC\"></a>\n",
    "* <a href=\"#bullet1\">1 - What is betacode?</a>\n",
    "* <a href=\"#bullet2\">2 - The beta-code python library</a>\n",
    "* <a href=\"#bullet3\">3 - Instalation</a>\n",
    "* <a href=\"#bullet4\">4 - Example usage</a>\n",
    "* <a href=\"#bullet5\">5 - Remarks</a>\n",
    "* <a href=\"#bullet6\">6 - Notebook version details</a>"
   ]
  },
  {
   "cell_type": "markdown",
   "id": "4f2d4c40-9072-4e04-9a09-536858e2d278",
   "metadata": {},
   "source": [
    "# 1 - What is betacode? <a class=\"anchor\" id=\"bullet1\"></a>\n",
    "##### [Back to ToC](#TOC)\n",
    "\n",
    "Beta Code is a system developed in the 1980s for representing ancient Greek (and some other special scripts) using only regular ASCII characters (A–Z, punctuation).Accents, breathings, and other diacritics are shown using special symbols like =, /, \\, ), (.\n",
    "\n",
    "It was created to make it possible to type, store, and search Greek texts on computers that could not handle Greek letters directly. \n",
    "\n",
    "Beta Code was mainly used in projects like the Thesaurus Linguae Graecae (TLG). Today, Unicode has made Beta Code mostly obsolete for display, but it's still used for certain tools and databases (like Morpheus)."
   ]
  },
  {
   "cell_type": "markdown",
   "id": "a0c183a9-99ef-4651-8aa2-905cd35593d7",
   "metadata": {},
   "source": [
    "# 2 - The beta-code python library <a class=\"anchor\" id=\"bullet2\"></a>\n",
    "##### [Back to ToC](#TOC)"
   ]
  },
  {
   "cell_type": "markdown",
   "id": "28a70eab-6c06-4c1a-b12f-347b34c90532",
   "metadata": {},
   "source": [
    "A small python lib is available that can map unicode Greek into betacode and vise versa. The code is available via [github.com/perseids-tools/beta-code-py](https://github.com/perseids-tools/beta-code-py)."
   ]
  },
  {
   "cell_type": "markdown",
   "id": "23b1ce54-ccbc-4798-9c61-afffe573bce5",
   "metadata": {},
   "source": [
    "The JSON file with the mapping (which is the core of the beta-code package) can be found [here](https://github.com/perseids-tools/beta-code-json/blob/master/unicode_to_beta_code.json)."
   ]
  },
  {
   "cell_type": "markdown",
   "id": "fec9f813-c820-4a5e-8fdf-ae88324af2bb",
   "metadata": {},
   "source": [
    "# 3 - Installation <a class=\"anchor\" id=\"bullet3\"></a>\n",
    "##### [Back to ToC](#TOC)"
   ]
  },
  {
   "cell_type": "markdown",
   "id": "e60b130a-f889-417d-80fb-b2d11febb99f",
   "metadata": {},
   "source": [
    "In your Python environment:\n",
    "\n",
    "```\n",
    "pip install beta-code\n",
    "```\n",
    "Response:\n",
    "```\n",
    "Collecting beta-code\n",
    "  Downloading beta_code-1.1.0-py3-none-any.whl.metadata (1.9 kB)\n",
    "Downloading beta_code-1.1.0-py3-none-any.whl (8.4 kB)\n",
    "Installing collected packages: beta-code\n",
    "Successfully installed beta-code-1.1.0\n",
    "```"
   ]
  },
  {
   "cell_type": "markdown",
   "id": "4b657b29-a12e-4fe0-ae8b-5ff845760e06",
   "metadata": {},
   "source": [
    "# 4 - Example usage <a class=\"anchor\" id=\"bullet4\"></a>\n",
    "##### [Back to ToC](#TOC)"
   ]
  },
  {
   "cell_type": "markdown",
   "id": "ef0b0857-6de8-4d0d-9015-ace32826972f",
   "metadata": {},
   "source": [
    "First load the lib:"
   ]
  },
  {
   "cell_type": "code",
   "execution_count": 1,
   "id": "5f08f480-4f0a-4cb1-9551-65f99fb7210d",
   "metadata": {},
   "outputs": [],
   "source": [
    "import beta_code"
   ]
  },
  {
   "cell_type": "markdown",
   "id": "cfb9a993-b714-401c-9485-5f9dbfac5aca",
   "metadata": {},
   "source": [
    "Mapping from Unicode to Betacode is as simple as :"
   ]
  },
  {
   "cell_type": "code",
   "execution_count": 2,
   "id": "5d358683-eddf-47b5-992b-9dce99ab18de",
   "metadata": {},
   "outputs": [
    {
     "data": {
      "text/plain": [
       "'xai=re w)= ko/sme'"
      ]
     },
     "execution_count": 2,
     "metadata": {},
     "output_type": "execute_result"
    }
   ],
   "source": [
    "beta_code.greek_to_beta_code(u'χαῖρε ὦ κόσμε')"
   ]
  },
  {
   "cell_type": "markdown",
   "id": "db2f187f-6c6b-4ca1-8189-a028ac9f3795",
   "metadata": {},
   "source": [
    "Likewise mapping from Betacode to Unicode:\n"
   ]
  },
  {
   "cell_type": "code",
   "execution_count": 3,
   "id": "d3cd7f78-3f0c-49f2-8174-2f578bf7ef47",
   "metadata": {},
   "outputs": [
    {
     "data": {
      "text/plain": [
       "'χαῖρε ὦ κόσμε'"
      ]
     },
     "execution_count": 3,
     "metadata": {},
     "output_type": "execute_result"
    }
   ],
   "source": [
    "beta_code.beta_code_to_greek('xai=re w)= ko/sme')"
   ]
  },
  {
   "cell_type": "markdown",
   "id": "fdb27f52-0edf-40a2-bf73-ae28679df7bc",
   "metadata": {},
   "source": [
    "# 5 - Remarks <a class=\"anchor\" id=\"bullet5\"></a>\n",
    "##### [Back to ToC](#TOC)"
   ]
  },
  {
   "cell_type": "markdown",
   "id": "b726b1ec-1ac7-4649-b92a-5c1ac48b29cf",
   "metadata": {},
   "source": [
    "The `u` in `u'χαῖρε ὦ κόσμε'` simply means \"this is a Unicode string\". In Python 2, you had two types of strings: 'abc' → byte string (raw bytes, not necessarily Unicode) and u'abc' → Unicode string (actual text characters). Since Greek characters are not plain ASCII, in Python 2.x one needed to add the `u`. In Python 3 (which is standard today), all strings are regarded Unicode by default, so the `u` is not needed anymore. I did put it still in there as in Python 3, it's optional, so the example should work both in Python 2 and in Python 3."
   ]
  },
  {
   "cell_type": "markdown",
   "id": "8636d49e-8a8e-4226-8b5c-7c2d4e85c757",
   "metadata": {
    "jp-MarkdownHeadingCollapsed": true
   },
   "source": [
    "# 6 - Notebook version details<a class=\"anchor\" id=\"bullet6\"></a>\n",
    "##### [Back to ToC](#TOC)\n",
    "\n",
    "<div style=\"float: left;\">\n",
    "  <table>\n",
    "    <tr>\n",
    "      <td><strong>Author</strong></td>\n",
    "      <td>Tony Jurg</td>\n",
    "    </tr>\n",
    "    <tr>\n",
    "      <td><strong>Version</strong></td>\n",
    "      <td>1.2</td>\n",
    "    </tr>\n",
    "    <tr>\n",
    "      <td><strong>Date</strong></td>\n",
    "      <td>29 April 2025</td>\n",
    "    </tr>\n",
    "  </table>\n",
    "</div>"
   ]
  }
 ],
 "metadata": {
  "kernelspec": {
   "display_name": "Python 3 (ipykernel)",
   "language": "python",
   "name": "python3"
  },
  "language_info": {
   "codemirror_mode": {
    "name": "ipython",
    "version": 3
   },
   "file_extension": ".py",
   "mimetype": "text/x-python",
   "name": "python",
   "nbconvert_exporter": "python",
   "pygments_lexer": "ipython3",
   "version": "3.12.7"
  }
 },
 "nbformat": 4,
 "nbformat_minor": 5
}
