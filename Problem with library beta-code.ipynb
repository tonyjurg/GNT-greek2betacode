{
 "cells": [
  {
   "cell_type": "markdown",
   "id": "639e36ae-6512-4c8c-a081-0805f0cde99a",
   "metadata": {},
   "source": [
    "# Problem with library beta-code"
   ]
  },
  {
   "cell_type": "markdown",
   "id": "28a70eab-6c06-4c1a-b12f-347b34c90532",
   "metadata": {},
   "source": [
    "## Library to be used\n",
    "\n",
    "A python lib is available that can map unicode greek into betacode and vise versa. The code is available via https://github.com/perseids-tools/beta-code-py"
   ]
  },
  {
   "cell_type": "markdown",
   "id": "23b1ce54-ccbc-4798-9c61-afffe573bce5",
   "metadata": {},
   "source": [
    "The JSON file with the mapping can be found at: https://github.com/perseids-tools/beta-code-json/blob/master/unicode_to_beta_code.json"
   ]
  },
  {
   "cell_type": "markdown",
   "id": "bf6f1d65-435b-48c8-99fc-0a99437df70b",
   "metadata": {},
   "source": [
    "Installation:\n",
    "\n",
    "```\n",
    "pip install beta-code\n",
    "```\n",
    "\n",
    "Response:\n",
    "```\n",
    "Collecting beta-code\n",
    "  Downloading beta_code-1.1.0-py3-none-any.whl.metadata (1.9 kB)\n",
    "Downloading beta_code-1.1.0-py3-none-any.whl (8.4 kB)\n",
    "Installing collected packages: beta-code\n",
    "Successfully installed beta-code-1.1.0\n",
    "```"
   ]
  },
  {
   "cell_type": "markdown",
   "id": "27783523-48cf-4c02-8a13-791f0aa10ce5",
   "metadata": {},
   "source": [
    "## Loading issues when working in a Windows environment\n",
    "\n",
    "After install the python lib was attempted to be loaded:\n",
    "\n",
    "```\n",
    "import beta_code\n",
    "```\n",
    "\n",
    "This resulted in the following error:\n",
    "\n",
    "```\n",
    "UnicodeDecodeError                        Traceback (most recent call last)\n",
    "Cell In[1], line 1\n",
    "----> 1 import beta_code\n",
    "\n",
    "File ~\\anaconda3\\envs\\CLTK-env\\lib\\site-packages\\beta_code\\__init__.py:1\n",
    "----> 1 from .beta_code import greek_to_beta_code, beta_code_to_greek\n",
    "      3 name = \"beta_code\"\n",
    "...\n",
    "UnicodeDecodeError: 'charmap' codec can't decode byte 0x8d in position 54: character maps to <undefined>\n",
    "```\n",
    "\n",
    "It seems this error is due to the fact that both JSON files ere not loaded using `UTF-8` encoding, but were loaded using the default system encoding `cp1252` (common on Windows). The JSON datafiles were correctly downloaded and stored in `UTF-8` encoding."
   ]
  },
  {
   "cell_type": "markdown",
   "id": "3770c406-25e4-4ce7-a924-a1caa9419572",
   "metadata": {},
   "source": [
    "The fix was to change the python code in file `beta_code.py` to explicitly declare the encoding to be used while reading the JSON files. This was done in file `beta_code.py` located at location `{user specific part}\\anaconda3\\envs\\CLTK-env\\Lib\\site-packages\\beta_code`.\n",
    "\n",
    "Two lines were augmented with encoding specifications (the \"encoding='utf-8'\" part below):\n",
    "\n",
    "```\n",
    "with open(os.path.join(os.path.dirname(__file__), 'vendor/beta-code-json/beta_code_to_unicode.json'), encoding='utf-8') as json_file:\n",
    "  BETA_CODE_TO_UNICODE_MAP = json.load(json_file)\n",
    "\n",
    "with open(os.path.join(os.path.dirname(__file__), 'vendor/beta-code-json/unicode_to_beta_code.json'), encoding='utf-8') as json_file:\n",
    "  UNICODE_TO_BETA_CODE_MAP = json.load(json_file)\n",
    "```\n",
    "\n",
    "After this the import is succesfull.\n",
    "\n",
    "Note that update/re-install will remove this changes."
   ]
  },
  {
   "cell_type": "markdown",
   "id": "122b1902-3c71-4823-983b-1048c0284565",
   "metadata": {},
   "source": [
    "# Permanent correction"
   ]
  },
  {
   "cell_type": "markdown",
   "id": "6acf6210-5c9c-4e81-b82a-3980f8e75991",
   "metadata": {},
   "source": [
    "A pull request was opened to correct the python library: [explicitly specify encoding (utf-8) for JSON files](https://github.com/perseids-tools/beta-code-py/pull/10)."
   ]
  },
  {
   "cell_type": "markdown",
   "id": "b87b5ffc-3b22-4992-bf06-302a037e3413",
   "metadata": {},
   "source": [
    "The problem has been fixed in release [1.1.1](https://github.com/perseids-tools/beta-code-py/releases/tag/v1.1.1)."
   ]
  }
 ],
 "metadata": {
  "kernelspec": {
   "display_name": "Python 3 (ipykernel)",
   "language": "python",
   "name": "python3"
  },
  "language_info": {
   "codemirror_mode": {
    "name": "ipython",
    "version": 3
   },
   "file_extension": ".py",
   "mimetype": "text/x-python",
   "name": "python",
   "nbconvert_exporter": "python",
   "pygments_lexer": "ipython3",
   "version": "3.12.7"
  }
 },
 "nbformat": 4,
 "nbformat_minor": 5
}
